{
 "cells": [
  {
   "cell_type": "markdown",
   "metadata": {},
   "source": [
    "- 1960 投资组合理论\n",
    "- 1965 CAPM 资本资产定价模型 Capital Asset Pricing Model\n",
    "  - $$ R_{i,t} - R_{f,t} = \\alpha + \\beta_i * (R_{m,t} - R_{f,t}) $$\n",
    "  - $$ \\beta_i = \\frac{Cov(R_{i,t} - R_{f,t},R_{m,t} - R_{f,t})}{Var_{t}(R_{m,t})} $$\n",
    "  - 收益率由贝塔唯一决定：没有任何其他的变量能和收益率有关联 $\\alpha = 0$\n",
    "- 1970 EMH 有效市场假说 (Fama)\n",
    "- 1973 Fama和MacBeth 用美股数据验证了CAPM\n",
    "- 1981 第一个异象 Anomaly\n",
    "  - 买size小的股票 卖size大的股票 $\\beta_{small} = \\beta_{big}$\n",
    "  - $$ R_{S} - R_{B} = \\alpha_{SMB} + (\\beta_{small} - \\beta_{big}) * (R_{m,t} - R_{f,t}) $$\n",
    "  - $ \\alpha_{SMB} \\neq 0$\n",
    "  - 买价值股，卖成长股  $\\beta_{value} = \\beta_{growth}$\n",
    "  - $$ R_{V} - R_{G} = \\alpha_{VMG} + (\\beta_{value} - \\beta_{growth}) * (R_{m,t} - R_{f,t}) $$\n",
    "  - $ \\alpha_{VMG} \\neq 0$\n",
    "- 1993 Fama和French 三因子\n",
    "  - $$ R_{i,t} - R_{f,t} = \\alpha + \\beta_i * (R_{m,t} - R_{f,t}) + \\beta_{smb} *(R_{S} - R_{B}) + \\beta_{vmg} * (R_{V} - R_{G}) $$\n",
    "- 1996 Titman 动量策略 追涨杀跌\n",
    "- 2010前后 alpha越来越多\n",
    "- 2013 张橹 投资、盈利 买公司投资低的卖公司投资高的 买公司ROE return on equity高的卖ROE低的\n",
    "  - $$ R_{i,t} - R_{f,t} = \\alpha + \\beta_i * (R_{m,t} - R_{f,t}) + \\beta_{smb} *(R_{S} - R_{B}) + \\beta_{inv} * (R_{inv}) + \\beta_{roe} * (R_{roe})$$\n",
    "- 2015 Fama French 五因子\n",
    "  - $$ R_{i,t} - R_{f,t} = \\alpha + \\beta_i * (R_{m,t} - R_{f,t}) + \\beta_{smb} *(R_{S} - R_{B}) + \\beta_{vmg} * (R_{V} - R_{G}) + + \\beta_{inv} * (R_{inv}) + \\beta_{roe} * (R_{roe})$$"
   ]
  }
 ],
 "metadata": {
  "language_info": {
   "name": "python"
  }
 },
 "nbformat": 4,
 "nbformat_minor": 2
}
